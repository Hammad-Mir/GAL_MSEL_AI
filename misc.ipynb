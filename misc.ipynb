{
 "cells": [
  {
   "cell_type": "code",
   "execution_count": 2,
   "id": "fa004ff8",
   "metadata": {},
   "outputs": [],
   "source": [
    "import json\n",
    "import requests\n",
    "from pprint import pprint"
   ]
  },
  {
   "cell_type": "code",
   "execution_count": 3,
   "id": "44fa8afd",
   "metadata": {},
   "outputs": [
    {
     "name": "stdout",
     "output_type": "stream",
     "text": [
      "Based on the confirmed details, here is the Master Scenario Events List: \n",
      "\n",
      "1. 00:00 - Initial Alert - Inject - Control Room Operator to On Scene Commander - \"H2S gas detectors in Unit OD1 have triggered an alarm indicating elevated H2S levels.\" - On Scene Commander initiates initial assessment and alerts Emergency Response Team (ERT). - Tests early detection and initial notification procedures under OPITO MEMIR. - Ensure rapid recognition and communication of hazardous gas detection.\n",
      "\n",
      "2. 00:05 - Situation Confirmation - Inject - On Scene Commander to HSE Officer and ERT Leader - \"Confirm H2S concentration levels and assess affected areas.\" - HSE Officer verifies gas levels; ERT Leader prepares personnel with breathing apparatus. - Tests hazard assessment and PPE deployment readiness.\n",
      "\n",
      "3. 00:10 - Emergency Declaration - Inject - On Scene Commander to Company HQ Observer and all platform personnel - \"Declare H2S gas release emergency; initiate emergency shutdown procedures and evacuation protocols.\" - Control Room Operator initiates emergency shutdown; Deck Supervisor coordinates personnel evacuation to muster points. - Tests emergency declaration, shutdown, and evacuation coordination.\n",
      "\n",
      "4. 00:15 - External Notification - Inject - On Scene Commander to Coast Guard and Environmental Regulator - \"Notify external agencies of H2S release and potential environmental impact.\" - Coast Guard prepares for possible offshore assistance; Environmental Regulator requests monitoring data. - Tests external communication and regulatory notification.\n",
      "\n",
      "5. 00:20 - Environmental Concern Raised - Inject - Fisherman Representative to On Scene Commander - \"Concern expressed about potential impact on nearby fishing zones.\" - On Scene Commander acknowledges and coordinates with Environmental Regulator for impact assessment. - Tests stakeholder communication and environmental risk management.\n",
      "\n",
      "6. 00:25 - Medical Alert - Inject - Medical Officer to On Scene Commander - \"Report of personnel exhibiting symptoms consistent with H2S exposure.\" - Medical Officer initiates medical triage and requests emergency medical evacuation if needed. - Tests medical response and casualty management.\n",
      "\n",
      "7. 00:30 - Spill Containment - Inject - ERT Leader to Logistics Coordinator - \"Report of minor hydrocarbon oil spill near containment area.\" - Logistics Coordinator deploys spill kits and containment measures. - Tests spill response and resource coordination.\n",
      "\n",
      "8. 00:40 - Communication System Check - Inject - Control Room Operator to all teams - \"Verify functionality of all communication systems including VHF radios and satellite phones.\" - Teams confirm operational status; report any failures. - Tests communication reliability under emergency conditions.\n",
      "\n",
      "9. 00:50 - Emergency Shutdown Verification - Inject - Control Room Operator to On Scene Commander - \"Confirm all emergency shutdown systems are fully engaged and stable.\" - On Scene Commander verifies system status and reports to Company HQ Observer. - Tests shutdown system effectiveness and reporting.\n",
      "\n",
      "10. 01:00 - Situation Update and Demobilization Planning - Inject - On Scene Commander to all response teams and Company HQ Observer - \"Provide status update; begin planning phased demobilization as gas levels return to safe limits.\" - Teams prepare for safe return to normal operations following OPITO MEMIR guidelines. - Tests incident resolution, recovery planning, and debriefing procedures.\n"
     ]
    }
   ],
   "source": [
    "print(\"Based on the confirmed details, here is the Master Scenario Events List: \\n\\n1. 00:00 - Initial Alert - Inject - Control Room Operator to On Scene Commander - \\\"H2S gas detectors in Unit OD1 have triggered an alarm indicating elevated H2S levels.\\\" - On Scene Commander initiates initial assessment and alerts Emergency Response Team (ERT). - Tests early detection and initial notification procedures under OPITO MEMIR. - Ensure rapid recognition and communication of hazardous gas detection.\\n\\n2. 00:05 - Situation Confirmation - Inject - On Scene Commander to HSE Officer and ERT Leader - \\\"Confirm H2S concentration levels and assess affected areas.\\\" - HSE Officer verifies gas levels; ERT Leader prepares personnel with breathing apparatus. - Tests hazard assessment and PPE deployment readiness.\\n\\n3. 00:10 - Emergency Declaration - Inject - On Scene Commander to Company HQ Observer and all platform personnel - \\\"Declare H2S gas release emergency; initiate emergency shutdown procedures and evacuation protocols.\\\" - Control Room Operator initiates emergency shutdown; Deck Supervisor coordinates personnel evacuation to muster points. - Tests emergency declaration, shutdown, and evacuation coordination.\\n\\n4. 00:15 - External Notification - Inject - On Scene Commander to Coast Guard and Environmental Regulator - \\\"Notify external agencies of H2S release and potential environmental impact.\\\" - Coast Guard prepares for possible offshore assistance; Environmental Regulator requests monitoring data. - Tests external communication and regulatory notification.\\n\\n5. 00:20 - Environmental Concern Raised - Inject - Fisherman Representative to On Scene Commander - \\\"Concern expressed about potential impact on nearby fishing zones.\\\" - On Scene Commander acknowledges and coordinates with Environmental Regulator for impact assessment. - Tests stakeholder communication and environmental risk management.\\n\\n6. 00:25 - Medical Alert - Inject - Medical Officer to On Scene Commander - \\\"Report of personnel exhibiting symptoms consistent with H2S exposure.\\\" - Medical Officer initiates medical triage and requests emergency medical evacuation if needed. - Tests medical response and casualty management.\\n\\n7. 00:30 - Spill Containment - Inject - ERT Leader to Logistics Coordinator - \\\"Report of minor hydrocarbon oil spill near containment area.\\\" - Logistics Coordinator deploys spill kits and containment measures. - Tests spill response and resource coordination.\\n\\n8. 00:40 - Communication System Check - Inject - Control Room Operator to all teams - \\\"Verify functionality of all communication systems including VHF radios and satellite phones.\\\" - Teams confirm operational status; report any failures. - Tests communication reliability under emergency conditions.\\n\\n9. 00:50 - Emergency Shutdown Verification - Inject - Control Room Operator to On Scene Commander - \\\"Confirm all emergency shutdown systems are fully engaged and stable.\\\" - On Scene Commander verifies system status and reports to Company HQ Observer. - Tests shutdown system effectiveness and reporting.\\n\\n10. 01:00 - Situation Update and Demobilization Planning - Inject - On Scene Commander to all response teams and Company HQ Observer - \\\"Provide status update; begin planning phased demobilization as gas levels return to safe limits.\\\" - Teams prepare for safe return to normal operations following OPITO MEMIR guidelines. - Tests incident resolution, recovery planning, and debriefing procedures.\")"
   ]
  },
  {
   "cell_type": "code",
   "execution_count": 11,
   "id": "a1cdfe2d",
   "metadata": {},
   "outputs": [],
   "source": [
    "def extract_required_data(data: dict) -> dict:\n",
    "    \"\"\"\n",
    "    Extract required data from the input dictionary.\n",
    "    \"\"\"\n",
    "    REQUIRED_FIELDS = {\n",
    "        \"unit_name\": None,\n",
    "        \"unit_type\": None,\n",
    "        \"asset_name\": None,\n",
    "        \"asset_type\": None,\n",
    "        \"asset_location\": None,\n",
    "        \"ownership_operator_name\": None,\n",
    "        \"workforce_size_shift\": None,\n",
    "        \"primary_function\": None,\n",
    "        \"key_processes\": None,\n",
    "        \"hazardous_materials\": None,\n",
    "        \"response_equipment\": None,\n",
    "        \"communication_systems\": None,\n",
    "        \"environmental_conditions\": None,\n",
    "        \"proximity_sensitive_areas\": None,\n",
    "        \"trainee_roles\": None,\n",
    "    }\n",
    "\n",
    "    collected = data.get(\"collectedUnitInfo\", {})\n",
    "    print(collected)\n",
    "    # Check if *all* values are None\n",
    "    # all_null = all(v is None for v in collected.values())\n",
    "\n",
    "    if collected != None:\n",
    "        # Use collectedUnitInfo if available\n",
    "        REQUIRED_FIELDS.update({\n",
    "            \"unit_name\": collected.get(\"unitName\"),\n",
    "            \"unit_type\": collected.get(\"unitType\"),\n",
    "            \"asset_name\": collected.get(\"assetName\"),\n",
    "            \"asset_type\": collected.get(\"assetType\"),\n",
    "            \"asset_location\": collected.get(\"assetLocation\"),\n",
    "            \"ownership_operator_name\": collected.get(\"ownershipOperatorName\"),\n",
    "            \"workforce_size_shift\": collected.get(\"workforceSizeShift\"),\n",
    "            \"primary_function\": collected.get(\"primaryFunction\"),\n",
    "            \"key_processes\": collected.get(\"keyProcesses\"),\n",
    "            \"hazardous_materials\": collected.get(\"hazardousMaterials\"),\n",
    "            \"response_equipment\": collected.get(\"responseEquipment\"),\n",
    "            \"communication_systems\": collected.get(\"communicationSystems\"),\n",
    "            \"environmental_conditions\": collected.get(\"environmentalConditions\"),\n",
    "            \"proximity_sensitive_areas\": collected.get(\"proximitySensitiveAreas\"),\n",
    "        })\n",
    "    else:\n",
    "        # Fallback to unitInfo\n",
    "        unit_info = data.get(\"unitInfo\", {})\n",
    "        asset = unit_info.get(\"asset\", {})\n",
    "        org = asset.get(\"organisation\", {})\n",
    "\n",
    "        REQUIRED_FIELDS.update({\n",
    "            \"unit_name\": unit_info.get(\"name\"),\n",
    "            \"unit_type\": unit_info.get(\"type\"),\n",
    "            \"asset_name\": asset.get(\"name\"),\n",
    "            \"asset_type\": asset.get(\"type\"),\n",
    "            \"asset_location\": asset.get(\"country\"),\n",
    "            \"ownership_operator_name\": org.get(\"name\"),\n",
    "        })\n",
    "\n",
    "    # Extract trainee roles from teamsAssigned\n",
    "    teams = data.get(\"teamsAssigned\", [])\n",
    "    trainee_roles = []\n",
    "    for team in teams:\n",
    "        for user in team.get(\"users\", []):\n",
    "            role = user.get(\"roleName\")\n",
    "            if role:\n",
    "                trainee_roles.append(role)\n",
    "\n",
    "    REQUIRED_FIELDS[\"trainee_roles\"] = \", \".join(trainee_roles) if trainee_roles else None\n",
    "\n",
    "    # Return as JSON string\n",
    "    return json.dumps(REQUIRED_FIELDS, indent=2)"
   ]
  },
  {
   "cell_type": "code",
   "execution_count": 3,
   "id": "17a4775a",
   "metadata": {},
   "outputs": [],
   "source": [
    "data = {\n",
    "  \"unitInfo\": {\n",
    "    \"name\": \"OD1\",\n",
    "    \"type\": \"crude oil distillation unit\",\n",
    "    \"asset\": {\n",
    "      \"name\": \"OffShore 1\",\n",
    "      \"type\": \"offshore production platform\",\n",
    "      \"coordinates\": \"coordinates\",\n",
    "      \"country\": \"Saudi Arabia\",\n",
    "      \"organisation\": {\n",
    "        \"name\": \"saudi LNG\",\n",
    "        \"description\": \"a global organisation focused on oil and natural gas production\",\n",
    "        \"hqLocation\": \"Saudi Arabia\",\n",
    "        \"country\": \"Saudi arabia\"\n",
    "      }\n",
    "    }\n",
    "  },\n",
    "  \"teamsAssigned\": [\n",
    "    {\n",
    "      \"name\": \"emergency response 1\",\n",
    "      \"users\": [\n",
    "        {\n",
    "          \"roleName\": \"first aid responder\"\n",
    "        }\n",
    "      ]\n",
    "    },\n",
    "    {\n",
    "      \"name\": \"second team\",\n",
    "      \"users\": []\n",
    "    }\n",
    "  ],\n",
    "  \"collectedUnitInfo\": {\n",
    "    \"unitName\": \"Test Unit\",\n",
    "    \"unitType\": \"Test Unit Type\",\n",
    "    \"assetName\": \"City of Port of Spain\",\n",
    "    \"assetType\": \"Coastal Region\",\n",
    "    \"assetLocation\": \"Port of Spain, Trinidad & Tobago\",\n",
    "    \"ownershipOperatorName\": \"Galileo Org\",\n",
    "    \"workforceSizeShift\": \"150 personnel, 3 shifts per day\",\n",
    "    \"primaryFunction\": None,\n",
    "    \"keyProcesses\": None,\n",
    "    \"hazardousMaterials\": None,\n",
    "    \"responseEquipment\": None,\n",
    "    \"communicationSystems\": None,\n",
    "    \"environmentalConditions\": None,\n",
    "    \"proximitySensitiveAreas\": None\n",
    "  }\n",
    "}"
   ]
  },
  {
   "cell_type": "code",
   "execution_count": 12,
   "id": "de240a54",
   "metadata": {},
   "outputs": [],
   "source": [
    "data2 = {\n",
    "  \"unitInfo\": {\n",
    "    \"name\": \"OD1\",\n",
    "    \"type\": \"crude oil distillation unit\",\n",
    "    \"asset\": {\n",
    "      \"name\": \"OffShore 1\",\n",
    "      \"type\": \"offshore production platform\",\n",
    "      \"coordinates\": \"coordinates\",\n",
    "      \"country\": \"Saudi Arabia\",\n",
    "      \"organisation\": {\n",
    "        \"name\": \"saudi LNG\",\n",
    "        \"description\": \"a global organisation focused on oil and natural gas production\",\n",
    "        \"hqLocation\": \"Saudi Arabia\",\n",
    "        \"country\": \"Saudi arabia\"\n",
    "      }\n",
    "    }\n",
    "  },\n",
    "  \"teamsAssigned\": [\n",
    "    {\n",
    "      \"name\": \"emergency response 1\",\n",
    "      \"users\": [\n",
    "        {\n",
    "          \"roleName\": \"first aid responder\"\n",
    "        },\n",
    "        {\n",
    "          \"roleName\": \"safety officer\"\n",
    "        }\n",
    "      ]\n",
    "    },\n",
    "    {\n",
    "      \"name\": \"second team\",\n",
    "      \"users\": [\n",
    "          {\n",
    "              \"roleName\": \"firefighter\"\n",
    "          }\n",
    "      ]\n",
    "    }\n",
    "  ],\n",
    "  \"collectedUnitInfo\": { }\n",
    "}"
   ]
  },
  {
   "cell_type": "code",
   "execution_count": null,
   "id": "bfea0102",
   "metadata": {},
   "outputs": [],
   "source": [
    "data3 = {\n",
    "    \"unitInfo\": {\n",
    "        \"name\": \"OD1\",\n",
    "        \"type\": \"crude oil distillation unit\",\n",
    "        \"asset\": {\n",
    "            \"name\": \"OffShore 1\",\n",
    "            \"type\": \"offshore production platform\",\n",
    "            \"coordinates\": \"coordinates\",\n",
    "            \"country\": \"Saudi Arabia\",\n",
    "            \"organisation\": {\n",
    "                \"name\": \"saudi LNG\",\n",
    "                \"description\": \"a global organisation focused on oil and natural gas production.\",\n",
    "                \"hqLocation\": \"Saudi Arabia\",\n",
    "                \"country\": \"Saudi Arabia\"\n",
    "            }\n",
    "        }\n",
    "    },\n",
    "    \"teamsAssigned\": [\n",
    "        {\n",
    "            \"name\": \"Critical Care Crew\",\n",
    "            \"users\": []\n",
    "        }\n",
    "    ],\n",
    "    \"collectedUnitInfo\": null\n",
    "}.json()"
   ]
  },
  {
   "cell_type": "code",
   "execution_count": 13,
   "id": "c10287e8",
   "metadata": {},
   "outputs": [
    {
     "name": "stdout",
     "output_type": "stream",
     "text": [
      "{\n",
      "  \"unit_name\": \"OD1\",\n",
      "  \"unit_type\": \"crude oil distillation unit\",\n",
      "  \"asset_name\": \"OffShore 1\",\n",
      "  \"asset_type\": \"offshore production platform\",\n",
      "  \"asset_location\": \"Saudi Arabia\",\n",
      "  \"ownership_operator_name\": \"saudi LNG\",\n",
      "  \"workforce_size_shift\": null,\n",
      "  \"primary_function\": null,\n",
      "  \"key_processes\": null,\n",
      "  \"hazardous_materials\": null,\n",
      "  \"response_equipment\": null,\n",
      "  \"communication_systems\": null,\n",
      "  \"environmental_conditions\": null,\n",
      "  \"proximity_sensitive_areas\": null,\n",
      "  \"trainee_roles\": \"first aid responder, safety officer, firefighter\"\n",
      "}\n"
     ]
    }
   ],
   "source": [
    "print(extract_required_data(data2))"
   ]
  },
  {
   "cell_type": "code",
   "execution_count": 9,
   "id": "82769434",
   "metadata": {},
   "outputs": [
    {
     "data": {
      "text/plain": [
       "str"
      ]
     },
     "execution_count": 9,
     "metadata": {},
     "output_type": "execute_result"
    }
   ],
   "source": [
    "type(extract_required_data(data2))"
   ]
  },
  {
   "cell_type": "code",
   "execution_count": 8,
   "id": "9cbc8db7",
   "metadata": {},
   "outputs": [],
   "source": [
    "UNIT_API_BASE = \"http://134.209.148.133:3001/api/ai-scenario-generation/hierarchy/unit\""
   ]
  },
  {
   "cell_type": "code",
   "execution_count": 9,
   "id": "114b7f37",
   "metadata": {},
   "outputs": [
    {
     "name": "stdout",
     "output_type": "stream",
     "text": [
      "{'unitInfo': {'name': 'OD1', 'type': 'crude oil distillation unit', 'asset': {'name': 'OffShore 1', 'type': 'offshore production platform', 'coordinates': 'coordinates', 'country': 'Saudi Arabia', 'organisation': {'name': 'saudi LNG', 'description': 'a global organisation focused on oil and natural gas production.', 'hqLocation': 'Saudi Arabia', 'country': 'Saudi Arabia'}}}, 'teamsAssigned': [{'name': 'Critical Care Crew', 'users': []}], 'collectedUnitInfo': None}\n",
      "<class 'dict'>\n"
     ]
    }
   ],
   "source": [
    "resp = requests.get(f\"{UNIT_API_BASE}/{'7'}\")\n",
    "print(resp.json())\n",
    "print(type(resp.json()))"
   ]
  },
  {
   "cell_type": "code",
   "execution_count": 12,
   "id": "54cf2cc6",
   "metadata": {},
   "outputs": [
    {
     "name": "stdout",
     "output_type": "stream",
     "text": [
      "None\n",
      "{\n",
      "  \"unit_name\": \"OD1\",\n",
      "  \"unit_type\": \"crude oil distillation unit\",\n",
      "  \"asset_name\": \"OffShore 1\",\n",
      "  \"asset_type\": \"offshore production platform\",\n",
      "  \"asset_location\": \"Saudi Arabia\",\n",
      "  \"ownership_operator_name\": \"saudi LNG\",\n",
      "  \"workforce_size_shift\": null,\n",
      "  \"primary_function\": null,\n",
      "  \"key_processes\": null,\n",
      "  \"hazardous_materials\": null,\n",
      "  \"response_equipment\": null,\n",
      "  \"communication_systems\": null,\n",
      "  \"environmental_conditions\": null,\n",
      "  \"proximity_sensitive_areas\": null,\n",
      "  \"trainee_roles\": null\n",
      "}\n"
     ]
    }
   ],
   "source": [
    "print(extract_required_data(resp.json()))"
   ]
  }
 ],
 "metadata": {
  "kernelspec": {
   "display_name": "gal",
   "language": "python",
   "name": "python3"
  },
  "language_info": {
   "codemirror_mode": {
    "name": "ipython",
    "version": 3
   },
   "file_extension": ".py",
   "mimetype": "text/x-python",
   "name": "python",
   "nbconvert_exporter": "python",
   "pygments_lexer": "ipython3",
   "version": "3.12.10"
  }
 },
 "nbformat": 4,
 "nbformat_minor": 5
}
